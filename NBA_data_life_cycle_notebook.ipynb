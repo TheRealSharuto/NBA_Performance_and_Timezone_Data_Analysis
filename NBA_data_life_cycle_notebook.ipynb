{
 "cells": [
  {
   "cell_type": "markdown",
   "id": "b4a900b0-5222-41f9-9f08-4f2cf5769800",
   "metadata": {},
   "source": [
    "# NBA Data Analysis for Prediction Model"
   ]
  },
  {
   "cell_type": "markdown",
   "id": "1cedbdd3-7468-4f19-918f-1290561931e4",
   "metadata": {},
   "source": [
    "## Table of Contents <a id=\"table_of_contents\"></a>"
   ]
  },
  {
   "cell_type": "markdown",
   "id": "48311faf-cb0c-4fdd-8011-c02e311c8ccb",
   "metadata": {},
   "source": [
    "0. [Import Libraries](#imports)\n",
    "1. [Import Data](#import_data)\n",
    "2. Data Exploration\n",
    "3. Data Cleaning\n",
    "4. Data Preparation\n",
    "5. Benchmark Model\n",
    "6. Visualization ?"
   ]
  },
  {
   "cell_type": "markdown",
   "id": "83e34125-0231-4944-bfe9-f5265e18162a",
   "metadata": {},
   "source": [
    "## 0. Importing Libraries <a id=\"imports\"></a>"
   ]
  },
  {
   "cell_type": "markdown",
   "id": "29593552-3504-4614-8d85-44d9d992bbfe",
   "metadata": {},
   "source": [
    "[Back to top](#table_of_contents)"
   ]
  },
  {
   "cell_type": "code",
   "execution_count": 1,
   "id": "715c83f9-673b-4a6d-8605-8c2ec8b10c75",
   "metadata": {},
   "outputs": [
    {
     "name": "stdout",
     "output_type": "stream",
     "text": [
      "\u001b[33mDEPRECATION: Loading egg at /opt/anaconda3/lib/python3.12/site-packages/geometry-0.0.1-py3.12.egg is deprecated. pip 24.3 will enforce this behaviour change. A possible replacement is to use pip for package installation.. Discussion can be found at https://github.com/pypa/pip/issues/12330\u001b[0m\u001b[33m\n",
      "\u001b[0mRequirement already satisfied: opendatasets in /opt/anaconda3/lib/python3.12/site-packages (0.1.22)\n",
      "Requirement already satisfied: tqdm in /opt/anaconda3/lib/python3.12/site-packages (from opendatasets) (4.66.4)\n",
      "Requirement already satisfied: kaggle in /opt/anaconda3/lib/python3.12/site-packages (from opendatasets) (1.6.17)\n",
      "Requirement already satisfied: click in /opt/anaconda3/lib/python3.12/site-packages (from opendatasets) (8.1.7)\n",
      "Requirement already satisfied: six>=1.10 in /opt/anaconda3/lib/python3.12/site-packages (from kaggle->opendatasets) (1.16.0)\n",
      "Requirement already satisfied: certifi>=2023.7.22 in /opt/anaconda3/lib/python3.12/site-packages (from kaggle->opendatasets) (2024.7.4)\n",
      "Requirement already satisfied: python-dateutil in /opt/anaconda3/lib/python3.12/site-packages (from kaggle->opendatasets) (2.9.0.post0)\n",
      "Requirement already satisfied: requests in /opt/anaconda3/lib/python3.12/site-packages (from kaggle->opendatasets) (2.32.3)\n",
      "Requirement already satisfied: python-slugify in /opt/anaconda3/lib/python3.12/site-packages (from kaggle->opendatasets) (8.0.4)\n",
      "Requirement already satisfied: urllib3 in /opt/anaconda3/lib/python3.12/site-packages (from kaggle->opendatasets) (2.2.2)\n",
      "Requirement already satisfied: bleach in /opt/anaconda3/lib/python3.12/site-packages (from kaggle->opendatasets) (4.1.0)\n",
      "Requirement already satisfied: packaging in /opt/anaconda3/lib/python3.12/site-packages (from bleach->kaggle->opendatasets) (23.2)\n",
      "Requirement already satisfied: webencodings in /opt/anaconda3/lib/python3.12/site-packages (from bleach->kaggle->opendatasets) (0.5.1)\n",
      "Requirement already satisfied: text-unidecode>=1.3 in /opt/anaconda3/lib/python3.12/site-packages (from python-slugify->kaggle->opendatasets) (1.3)\n",
      "Requirement already satisfied: charset-normalizer<4,>=2 in /opt/anaconda3/lib/python3.12/site-packages (from requests->kaggle->opendatasets) (3.3.2)\n",
      "Requirement already satisfied: idna<4,>=2.5 in /opt/anaconda3/lib/python3.12/site-packages (from requests->kaggle->opendatasets) (3.7)\n"
     ]
    }
   ],
   "source": [
    "!pip install opendatasets"
   ]
  },
  {
   "cell_type": "code",
   "execution_count": 2,
   "id": "0a411566-a7a0-489a-83cb-75bdd93175de",
   "metadata": {},
   "outputs": [
    {
     "name": "stdout",
     "output_type": "stream",
     "text": [
      "\u001b[33mDEPRECATION: Loading egg at /opt/anaconda3/lib/python3.12/site-packages/geometry-0.0.1-py3.12.egg is deprecated. pip 24.3 will enforce this behaviour change. A possible replacement is to use pip for package installation.. Discussion can be found at https://github.com/pypa/pip/issues/12330\u001b[0m\u001b[33m\n",
      "\u001b[0mRequirement already satisfied: pypyodbc in /opt/anaconda3/lib/python3.12/site-packages (1.3.6)\n",
      "Requirement already satisfied: setuptools in /opt/anaconda3/lib/python3.12/site-packages (from pypyodbc) (72.1.0)\n",
      "Note: you may need to restart the kernel to use updated packages.\n"
     ]
    }
   ],
   "source": [
    "pip install pypyodbc"
   ]
  },
  {
   "cell_type": "code",
   "execution_count": 3,
   "id": "4d1b299e-477e-44f6-959a-fb09ab11bfca",
   "metadata": {},
   "outputs": [],
   "source": [
    "import pandas as pd\n",
    "import numpy as np\n",
    "import sqlite3 as sql\n",
    "import matplotlib\n",
    "from matplotlib import pyplot as plt\n",
    "import opendatasets as od\n",
    "import os"
   ]
  },
  {
   "cell_type": "markdown",
   "id": "73ea336f-5e9f-4c32-9c8e-5f177c15fedd",
   "metadata": {},
   "source": [
    "## 1. Import Data <a id=\"import_data\"></a>"
   ]
  },
  {
   "cell_type": "markdown",
   "id": "70ccde29-9e62-4800-9710-94c2393a03c5",
   "metadata": {},
   "source": [
    "[Back to top](#table_of_contents)"
   ]
  },
  {
   "cell_type": "code",
   "execution_count": 4,
   "id": "c51e03c2-8103-409a-a0c6-85c3b84584fd",
   "metadata": {},
   "outputs": [
    {
     "name": "stdout",
     "output_type": "stream",
     "text": [
      "Skipping, found downloaded files in \"./basketball\" (use force=True to force download)\n"
     ]
    }
   ],
   "source": [
    "#create connection to database file in Kaggle\n",
    "dataset = \"https://www.kaggle.com/datasets/wyattowalsh/basketball\"\n",
    "od.download(dataset)"
   ]
  },
  {
   "cell_type": "code",
   "execution_count": 5,
   "id": "96c40abf-c5f9-4f04-b18e-c2c5cf3a126a",
   "metadata": {},
   "outputs": [
    {
     "name": "stdout",
     "output_type": "stream",
     "text": [
      "      season_id team_id_home team_abbreviation_home           team_name_home  \\\n",
      "0         21946   1610610035                    HUS          Toronto Huskies   \n",
      "1         21946   1610610034                    BOM        St. Louis Bombers   \n",
      "2         21946   1610610032                    PRO  Providence Steamrollers   \n",
      "3         21946   1610610025                    CHS            Chicago Stags   \n",
      "4         21946   1610610028                    DEF          Detroit Falcons   \n",
      "...         ...          ...                    ...                      ...   \n",
      "65693     42022   1610612748                    MIA               Miami Heat   \n",
      "65694     42022   1610612748                    MIA               Miami Heat   \n",
      "65695     42022   1610612743                    DEN           Denver Nuggets   \n",
      "65696     32022   1610616834                    LBN              Team LeBron   \n",
      "65697     32022   1610616834                    LBN              Team LeBron   \n",
      "\n",
      "          game_id            game_date matchup_home wl_home  min  fgm_home  \\\n",
      "0      0024600001  1946-11-01 00:00:00  HUS vs. NYK       L    0      25.0   \n",
      "1      0024600003  1946-11-02 00:00:00  BOM vs. PIT       W    0      20.0   \n",
      "2      0024600002  1946-11-02 00:00:00  PRO vs. BOS       W    0      21.0   \n",
      "3      0024600004  1946-11-02 00:00:00  CHS vs. NYK       W    0      21.0   \n",
      "4      0024600005  1946-11-02 00:00:00  DEF vs. WAS       L    0      10.0   \n",
      "...           ...                  ...          ...     ...  ...       ...   \n",
      "65693  0042200403  2023-06-07 00:00:00  MIA vs. DEN       L  240      34.0   \n",
      "65694  0042200404  2023-06-09 00:00:00  MIA vs. DEN       L  240      35.0   \n",
      "65695  0042200405  2023-06-12 00:00:00  DEN vs. MIA       W  240      38.0   \n",
      "65696  0032200001  2023-02-19 00:00:00  LBN vs. GNS       L  221      79.0   \n",
      "65697  0032200001  2023-02-19 00:00:00  LBN vs. GNS       L  221      79.0   \n",
      "\n",
      "       ...  reb_away  ast_away  stl_away  blk_away  tov_away  pf_away  \\\n",
      "0      ...       NaN       NaN       NaN       NaN       NaN      NaN   \n",
      "1      ...       NaN       NaN       NaN       NaN       NaN     25.0   \n",
      "2      ...       NaN       NaN       NaN       NaN       NaN      NaN   \n",
      "3      ...       NaN       NaN       NaN       NaN       NaN     22.0   \n",
      "4      ...       NaN       NaN       NaN       NaN       NaN      NaN   \n",
      "...    ...       ...       ...       ...       ...       ...      ...   \n",
      "65693  ...      58.0      28.0       3.0       5.0      14.0     18.0   \n",
      "65694  ...      34.0      26.0      11.0       7.0       8.0     18.0   \n",
      "65695  ...      44.0      18.0       9.0       7.0       8.0     21.0   \n",
      "65696  ...      46.0      43.0       8.0       1.0      12.0      2.0   \n",
      "65697  ...      46.0      43.0       8.0       1.0      12.0      2.0   \n",
      "\n",
      "       pts_away  plus_minus_away  video_available_away     season_type  \n",
      "0          68.0                2                     0  Regular Season  \n",
      "1          51.0               -5                     0  Regular Season  \n",
      "2          53.0               -6                     0  Regular Season  \n",
      "3          47.0              -16                     0  Regular Season  \n",
      "4          50.0               17                     0  Regular Season  \n",
      "...         ...              ...                   ...             ...  \n",
      "65693     109.0               15                     1        Playoffs  \n",
      "65694     108.0               13                     1        Playoffs  \n",
      "65695      89.0               -5                     1        Playoffs  \n",
      "65696     184.0                9                     1        All-Star  \n",
      "65697     184.0                9                     1        All Star  \n",
      "\n",
      "[65698 rows x 55 columns]\n"
     ]
    }
   ],
   "source": [
    "# 1.Connect to SQL database\n",
    "connection = sql.connect('basketball/nba.sqlite')\n",
    "# Test SQL connectivity to database by writing a SQL query\n",
    "test_query = \"SELECT * FROM game\"\n",
    "# Load the data into a pandas DataFrame\n",
    "df = pd.read_sql_query(test_query, connection)\n",
    "# Display the DataFrame\n",
    "print(df)\n",
    "# Close Connection if necessary\n",
    "connection.close()"
   ]
  },
  {
   "cell_type": "markdown",
   "id": "3ca7cdf1-d0d6-44e9-8454-7555d0a25b86",
   "metadata": {},
   "source": [
    "## 2. Data Exploration"
   ]
  },
  {
   "cell_type": "markdown",
   "id": "c95d8fa4-1ac3-4253-9ba8-12bccd3677be",
   "metadata": {},
   "source": [
    "[Click here](https://www.nba.com/stats/help/glossary) for an NBA stat glossary.\n",
    "[Click here](https://en.wikipedia.org/wiki/Basketball_statistics) for general basketball statistics acronyms.\n",
    "\n",
    "Slug for CSV folder files (for the purpose of viewing the tables here): /basketball/csv/[table name].csv\n",
    "\n",
    "* fgm = field goals made\n",
    "* ftm = free throws made\n",
    "* pts = points\n",
    "* reb = rebounds\n",
    "* oreb = offensive rebounds\n",
    "* dreb = defensive rebounds\n",
    "* ast = assists\n",
    "* stl = steals\n",
    "* blk = blocks\n",
    "* tov = turnovers\n",
    "* td = triple double\n",
    "* wl = win/lose\n",
    "* ft_pct_away = free throws % of away team\n",
    "\n",
    "NBA's efficiency rating: (PTS + REB + AST + STL + BLK − ((FGA − FGM) + (FTA − FTM) + TO))"
   ]
  },
  {
   "cell_type": "markdown",
   "id": "a9be2402-8a97-4daf-a73e-98deef3960aa",
   "metadata": {},
   "source": [
    "## 3. Data Cleaning"
   ]
  },
  {
   "cell_type": "code",
   "execution_count": 8,
   "id": "4598ce2b-c2a2-4beb-92d4-1cd48428dc48",
   "metadata": {},
   "outputs": [],
   "source": [
    "# 1.Connect to SQL database\n",
    "explore_connection = sql.connect('basketball/nba.sqlite')\n",
    "\n",
    "cursor = explore_connection.cursor()\n",
    "cursor.execute('''\n",
    "    CREATE TABLE IF NOT EXISTS game_cleaned AS\n",
    "    SELECT team_id_home, team_abbreviation_home, team_name_home, game_id, wl_home, fga_home, fg_pct_home, ftm_home, pts_home, fta_home, fgm_home, oreb_home, dreb_home, reb_home, ast_home, stl_home, blk_home, tov_home, pf_home, team_id_away, team_name_away, wl_away, fg_pct_away, ft_pct_away, pts_away, fgm_away, oreb_away, dreb_away, reb_away, ast_away, stl_away, blk_away, tov_away, pf_away\n",
    "    FROM game\n",
    "    WHERE fga_home IS NOT NULL AND fta_home IS NOT NULL AND ftm_home IS NOT NULL AND oreb_home IS NOT NULL AND dreb_home IS NOT NULL AND stl_home IS NOT NULL AND ast_home IS NOT NULL AND reb_home IS NOT NULL AND blk_home IS NOT NULL AND tov_home IS NOT NULL AND pf_home IS NOT NULL AND pts_home IS NOT NULL AND team_id_away IS NOT NULL AND team_name_away IS NOT NULL AND wl_away IS NOT NULL AND fg_pct_away IS NOT NULL AND ft_pct_away IS NOT NULL AND pts_away IS NOT NULL AND fgm_away IS NOT NULL AND oreb_away IS NOT NULL AND dreb_away IS NOT NULL AND reb_away IS NOT NULL AND ast_away IS NOT NULL AND stl_away IS NOT NULL AND blk_away IS NOT NULL AND tov_away IS NOT NULL AND pf_away IS NOT NULL AND pts_away IS NOT NULL;\n",
    "''')\n",
    "connection.close()"
   ]
  },
  {
   "cell_type": "code",
   "execution_count": 11,
   "id": "777c37e0-e89d-4ce5-8174-89dde0f82415",
   "metadata": {},
   "outputs": [
    {
     "ename": "OperationalError",
     "evalue": "no such column: fga_home",
     "output_type": "error",
     "traceback": [
      "\u001b[0;31m---------------------------------------------------------------------------\u001b[0m",
      "\u001b[0;31mOperationalError\u001b[0m                          Traceback (most recent call last)",
      "Cell \u001b[0;32mIn[11], line 11\u001b[0m\n\u001b[1;32m      3\u001b[0m cursor\u001b[38;5;241m.\u001b[39mexecute(\u001b[38;5;124m'''\u001b[39m\n\u001b[1;32m      4\u001b[0m \u001b[38;5;124m    ALTER TABLE game_cleaned ADD COLUMN eff_home;\u001b[39m\n\u001b[1;32m      5\u001b[0m \u001b[38;5;124m'''\u001b[39m)\n\u001b[1;32m      7\u001b[0m cursor\u001b[38;5;241m.\u001b[39mexecute(\u001b[38;5;124m'''\u001b[39m\n\u001b[1;32m      8\u001b[0m \u001b[38;5;124m    ALTER TABLE game_cleaned ADD COLUMN eff_away;\u001b[39m\n\u001b[1;32m      9\u001b[0m \u001b[38;5;124m'''\u001b[39m)\n\u001b[0;32m---> 11\u001b[0m cursor\u001b[38;5;241m.\u001b[39mexecute(\u001b[38;5;124m'''\u001b[39m\n\u001b[1;32m     12\u001b[0m \u001b[38;5;124m    UPDATE game_cleaned\u001b[39m\n\u001b[1;32m     13\u001b[0m \u001b[38;5;124m    SET eff_home = (pts_home + reb_home + ast_home + stl_home + blk_home - ((fga_home - fgm_home) + (fta_home - ftm_home) + tov_home)),\u001b[39m\n\u001b[1;32m     14\u001b[0m \u001b[38;5;124m        eff_away = (pts_away + reb_away + ast_away + stl_away + blk_away - ((fga_away - fgm_away) + (fta_away - ftm_away) + tov_away))\u001b[39m\n\u001b[1;32m     15\u001b[0m \u001b[38;5;124m'''\u001b[39m)\n\u001b[1;32m     17\u001b[0m display_game_cleaned_query \u001b[38;5;241m=\u001b[39m \u001b[38;5;124m\"\u001b[39m\u001b[38;5;124mSELECT * FROM game_cleaned\u001b[39m\u001b[38;5;124m\"\u001b[39m\n\u001b[1;32m     18\u001b[0m game_cleaned_df \u001b[38;5;241m=\u001b[39m pd\u001b[38;5;241m.\u001b[39mread_sql_query(display_game_cleaned_query, explore_connection)\n",
      "\u001b[0;31mOperationalError\u001b[0m: no such column: fga_home"
     ]
    }
   ],
   "source": [
    "# 1.Connect to SQL database\n",
    "add_calculation_connection = sql.connect('basketball/nba.sqlite')\n",
    "cursor.execute('''\n",
    "    ALTER TABLE game_cleaned ADD COLUMN eff_home;\n",
    "''')\n",
    "\n",
    "cursor.execute('''\n",
    "    ALTER TABLE game_cleaned ADD COLUMN eff_away;\n",
    "''')\n",
    "\n",
    "cursor.execute('''\n",
    "    UPDATE game_cleaned\n",
    "    SET eff_home = (pts_home + reb_home + ast_home + stl_home + blk_home - ((fga_home - fgm_home) + (fta_home - ftm_home) + tov_home)),\n",
    "        eff_away = (pts_away + reb_away + ast_away + stl_away + blk_away - ((fga_away - fgm_away) + (fta_away - ftm_away) + tov_away))\n",
    "''')\n",
    "\n",
    "display_game_cleaned_query = \"SELECT * FROM game_cleaned\"\n",
    "game_cleaned_df = pd.read_sql_query(display_game_cleaned_query, explore_connection)\n",
    "print(game_cleaned_df)\n",
    "connection.close()"
   ]
  },
  {
   "cell_type": "code",
   "execution_count": null,
   "id": "96d76ae0-ec4a-4e3d-8b14-48c360747013",
   "metadata": {},
   "outputs": [],
   "source": []
  }
 ],
 "metadata": {
  "kernelspec": {
   "display_name": "Python 3 (ipykernel)",
   "language": "python",
   "name": "python3"
  },
  "language_info": {
   "codemirror_mode": {
    "name": "ipython",
    "version": 3
   },
   "file_extension": ".py",
   "mimetype": "text/x-python",
   "name": "python",
   "nbconvert_exporter": "python",
   "pygments_lexer": "ipython3",
   "version": "3.12.4"
  }
 },
 "nbformat": 4,
 "nbformat_minor": 5
}
