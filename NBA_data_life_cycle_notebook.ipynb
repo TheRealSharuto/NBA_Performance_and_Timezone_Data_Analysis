{
 "cells": [
  {
   "cell_type": "markdown",
   "id": "b4a900b0-5222-41f9-9f08-4f2cf5769800",
   "metadata": {},
   "source": [
    "# NBA Data Analysis for Prediction Model"
   ]
  },
  {
   "cell_type": "markdown",
   "id": "1cedbdd3-7468-4f19-918f-1290561931e4",
   "metadata": {},
   "source": [
    "## Table of Contents <a id=\"table_of_contents\"></a>"
   ]
  },
  {
   "cell_type": "markdown",
   "id": "48311faf-cb0c-4fdd-8011-c02e311c8ccb",
   "metadata": {},
   "source": [
    "0. [Import Libraries](#imports)\n",
    "1. [Import Data](#import_data)\n",
    "2. Data Exploration\n",
    "3. Data Cleaning\n",
    "4. Data Preparation\n",
    "5. Benchmark Model\n",
    "6. Visualization ?"
   ]
  },
  {
   "cell_type": "markdown",
   "id": "83e34125-0231-4944-bfe9-f5265e18162a",
   "metadata": {},
   "source": [
    "## 0. Importing Libraries <a id=\"imports\"></a>"
   ]
  },
  {
   "cell_type": "markdown",
   "id": "29593552-3504-4614-8d85-44d9d992bbfe",
   "metadata": {},
   "source": [
    "[Back to top](#table_of_contents)"
   ]
  },
  {
   "cell_type": "code",
   "execution_count": 1,
   "id": "715c83f9-673b-4a6d-8605-8c2ec8b10c75",
   "metadata": {},
   "outputs": [
    {
     "name": "stdout",
     "output_type": "stream",
     "text": [
      "\u001b[33mDEPRECATION: Loading egg at /opt/anaconda3/lib/python3.12/site-packages/geometry-0.0.1-py3.12.egg is deprecated. pip 24.3 will enforce this behaviour change. A possible replacement is to use pip for package installation.. Discussion can be found at https://github.com/pypa/pip/issues/12330\u001b[0m\u001b[33m\n",
      "\u001b[0mRequirement already satisfied: opendatasets in /opt/anaconda3/lib/python3.12/site-packages (0.1.22)\n",
      "Requirement already satisfied: tqdm in /opt/anaconda3/lib/python3.12/site-packages (from opendatasets) (4.66.4)\n",
      "Requirement already satisfied: kaggle in /opt/anaconda3/lib/python3.12/site-packages (from opendatasets) (1.6.17)\n",
      "Requirement already satisfied: click in /opt/anaconda3/lib/python3.12/site-packages (from opendatasets) (8.1.7)\n",
      "Requirement already satisfied: six>=1.10 in /opt/anaconda3/lib/python3.12/site-packages (from kaggle->opendatasets) (1.16.0)\n",
      "Requirement already satisfied: certifi>=2023.7.22 in /opt/anaconda3/lib/python3.12/site-packages (from kaggle->opendatasets) (2024.7.4)\n",
      "Requirement already satisfied: python-dateutil in /opt/anaconda3/lib/python3.12/site-packages (from kaggle->opendatasets) (2.9.0.post0)\n",
      "Requirement already satisfied: requests in /opt/anaconda3/lib/python3.12/site-packages (from kaggle->opendatasets) (2.32.3)\n",
      "Requirement already satisfied: python-slugify in /opt/anaconda3/lib/python3.12/site-packages (from kaggle->opendatasets) (8.0.4)\n",
      "Requirement already satisfied: urllib3 in /opt/anaconda3/lib/python3.12/site-packages (from kaggle->opendatasets) (2.2.2)\n",
      "Requirement already satisfied: bleach in /opt/anaconda3/lib/python3.12/site-packages (from kaggle->opendatasets) (4.1.0)\n",
      "Requirement already satisfied: packaging in /opt/anaconda3/lib/python3.12/site-packages (from bleach->kaggle->opendatasets) (23.2)\n",
      "Requirement already satisfied: webencodings in /opt/anaconda3/lib/python3.12/site-packages (from bleach->kaggle->opendatasets) (0.5.1)\n",
      "Requirement already satisfied: text-unidecode>=1.3 in /opt/anaconda3/lib/python3.12/site-packages (from python-slugify->kaggle->opendatasets) (1.3)\n",
      "Requirement already satisfied: charset-normalizer<4,>=2 in /opt/anaconda3/lib/python3.12/site-packages (from requests->kaggle->opendatasets) (3.3.2)\n",
      "Requirement already satisfied: idna<4,>=2.5 in /opt/anaconda3/lib/python3.12/site-packages (from requests->kaggle->opendatasets) (3.7)\n"
     ]
    }
   ],
   "source": [
    "!pip install opendatasets"
   ]
  },
  {
   "cell_type": "code",
   "execution_count": 2,
   "id": "0a411566-a7a0-489a-83cb-75bdd93175de",
   "metadata": {},
   "outputs": [
    {
     "name": "stdout",
     "output_type": "stream",
     "text": [
      "\u001b[33mDEPRECATION: Loading egg at /opt/anaconda3/lib/python3.12/site-packages/geometry-0.0.1-py3.12.egg is deprecated. pip 24.3 will enforce this behaviour change. A possible replacement is to use pip for package installation.. Discussion can be found at https://github.com/pypa/pip/issues/12330\u001b[0m\u001b[33m\n",
      "\u001b[0mRequirement already satisfied: pypyodbc in /opt/anaconda3/lib/python3.12/site-packages (1.3.6)\n",
      "Requirement already satisfied: setuptools in /opt/anaconda3/lib/python3.12/site-packages (from pypyodbc) (72.1.0)\n",
      "Note: you may need to restart the kernel to use updated packages.\n"
     ]
    }
   ],
   "source": [
    "pip install pypyodbc"
   ]
  },
  {
   "cell_type": "code",
   "execution_count": 6,
   "id": "4d1b299e-477e-44f6-959a-fb09ab11bfca",
   "metadata": {},
   "outputs": [],
   "source": [
    "import pandas as pd\n",
    "import numpy as np\n",
    "import sqlite3 as sql\n",
    "import matplotlib\n",
    "from matplotlib import pyplot as plt\n",
    "import opendatasets as od\n",
    "import os"
   ]
  },
  {
   "cell_type": "markdown",
   "id": "73ea336f-5e9f-4c32-9c8e-5f177c15fedd",
   "metadata": {},
   "source": [
    "## 1. Import Data <a id=\"import_data\"></a>"
   ]
  },
  {
   "cell_type": "markdown",
   "id": "70ccde29-9e62-4800-9710-94c2393a03c5",
   "metadata": {},
   "source": [
    "[Back to top](#table_of_contents)"
   ]
  },
  {
   "cell_type": "code",
   "execution_count": 7,
   "id": "c51e03c2-8103-409a-a0c6-85c3b84584fd",
   "metadata": {},
   "outputs": [
    {
     "name": "stdout",
     "output_type": "stream",
     "text": [
      "Skipping, found downloaded files in \"./basketball\" (use force=True to force download)\n"
     ]
    }
   ],
   "source": [
    "#create connection to database file in Kaggle\n",
    "dataset = \"https://www.kaggle.com/datasets/wyattowalsh/basketball\"\n",
    "od.download(dataset)"
   ]
  },
  {
   "cell_type": "code",
   "execution_count": 8,
   "id": "96c40abf-c5f9-4f04-b18e-c2c5cf3a126a",
   "metadata": {},
   "outputs": [
    {
     "name": "stdout",
     "output_type": "stream",
     "text": [
      "      season_id team_id_home team_abbreviation_home           team_name_home  \\\n",
      "0         21946   1610610035                    HUS          Toronto Huskies   \n",
      "1         21946   1610610034                    BOM        St. Louis Bombers   \n",
      "2         21946   1610610032                    PRO  Providence Steamrollers   \n",
      "3         21946   1610610025                    CHS            Chicago Stags   \n",
      "4         21946   1610610028                    DEF          Detroit Falcons   \n",
      "...         ...          ...                    ...                      ...   \n",
      "65693     42022   1610612748                    MIA               Miami Heat   \n",
      "65694     42022   1610612748                    MIA               Miami Heat   \n",
      "65695     42022   1610612743                    DEN           Denver Nuggets   \n",
      "65696     32022   1610616834                    LBN              Team LeBron   \n",
      "65697     32022   1610616834                    LBN              Team LeBron   \n",
      "\n",
      "          game_id            game_date matchup_home wl_home  min  fgm_home  \\\n",
      "0      0024600001  1946-11-01 00:00:00  HUS vs. NYK       L    0      25.0   \n",
      "1      0024600003  1946-11-02 00:00:00  BOM vs. PIT       W    0      20.0   \n",
      "2      0024600002  1946-11-02 00:00:00  PRO vs. BOS       W    0      21.0   \n",
      "3      0024600004  1946-11-02 00:00:00  CHS vs. NYK       W    0      21.0   \n",
      "4      0024600005  1946-11-02 00:00:00  DEF vs. WAS       L    0      10.0   \n",
      "...           ...                  ...          ...     ...  ...       ...   \n",
      "65693  0042200403  2023-06-07 00:00:00  MIA vs. DEN       L  240      34.0   \n",
      "65694  0042200404  2023-06-09 00:00:00  MIA vs. DEN       L  240      35.0   \n",
      "65695  0042200405  2023-06-12 00:00:00  DEN vs. MIA       W  240      38.0   \n",
      "65696  0032200001  2023-02-19 00:00:00  LBN vs. GNS       L  221      79.0   \n",
      "65697  0032200001  2023-02-19 00:00:00  LBN vs. GNS       L  221      79.0   \n",
      "\n",
      "       ...  reb_away  ast_away  stl_away  blk_away  tov_away  pf_away  \\\n",
      "0      ...       NaN       NaN       NaN       NaN       NaN      NaN   \n",
      "1      ...       NaN       NaN       NaN       NaN       NaN     25.0   \n",
      "2      ...       NaN       NaN       NaN       NaN       NaN      NaN   \n",
      "3      ...       NaN       NaN       NaN       NaN       NaN     22.0   \n",
      "4      ...       NaN       NaN       NaN       NaN       NaN      NaN   \n",
      "...    ...       ...       ...       ...       ...       ...      ...   \n",
      "65693  ...      58.0      28.0       3.0       5.0      14.0     18.0   \n",
      "65694  ...      34.0      26.0      11.0       7.0       8.0     18.0   \n",
      "65695  ...      44.0      18.0       9.0       7.0       8.0     21.0   \n",
      "65696  ...      46.0      43.0       8.0       1.0      12.0      2.0   \n",
      "65697  ...      46.0      43.0       8.0       1.0      12.0      2.0   \n",
      "\n",
      "       pts_away  plus_minus_away  video_available_away     season_type  \n",
      "0          68.0                2                     0  Regular Season  \n",
      "1          51.0               -5                     0  Regular Season  \n",
      "2          53.0               -6                     0  Regular Season  \n",
      "3          47.0              -16                     0  Regular Season  \n",
      "4          50.0               17                     0  Regular Season  \n",
      "...         ...              ...                   ...             ...  \n",
      "65693     109.0               15                     1        Playoffs  \n",
      "65694     108.0               13                     1        Playoffs  \n",
      "65695      89.0               -5                     1        Playoffs  \n",
      "65696     184.0                9                     1        All-Star  \n",
      "65697     184.0                9                     1        All Star  \n",
      "\n",
      "[65698 rows x 55 columns]\n"
     ]
    }
   ],
   "source": [
    "# 1.Connect to SQL database\n",
    "connection = sql.connect('basketball/nba.sqlite')\n",
    "# Test SQL connectivity to database by writing a SQL query\n",
    "test_query = \"SELECT * FROM game\"\n",
    "# Load the data into a pandas DataFrame\n",
    "df = pd.read_sql_query(test_query, connection)\n",
    "# Display the DataFrame\n",
    "print(df)\n",
    "# Close Connection if necessary\n",
    "## connection.close()"
   ]
  },
  {
   "cell_type": "code",
   "execution_count": null,
   "id": "be392fd5-3197-49a4-8b69-1a98bd09b085",
   "metadata": {},
   "outputs": [],
   "source": []
  }
 ],
 "metadata": {
  "kernelspec": {
   "display_name": "Python 3 (ipykernel)",
   "language": "python",
   "name": "python3"
  },
  "language_info": {
   "codemirror_mode": {
    "name": "ipython",
    "version": 3
   },
   "file_extension": ".py",
   "mimetype": "text/x-python",
   "name": "python",
   "nbconvert_exporter": "python",
   "pygments_lexer": "ipython3",
   "version": "3.12.4"
  }
 },
 "nbformat": 4,
 "nbformat_minor": 5
}
