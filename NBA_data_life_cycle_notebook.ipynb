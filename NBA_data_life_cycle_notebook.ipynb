{
 "cells": [
  {
   "cell_type": "markdown",
   "id": "b4a900b0-5222-41f9-9f08-4f2cf5769800",
   "metadata": {},
   "source": [
    "# NBA Data Analysis for Prediction Model"
   ]
  },
  {
   "cell_type": "markdown",
   "id": "1cedbdd3-7468-4f19-918f-1290561931e4",
   "metadata": {},
   "source": [
    "## Table of Contents <a id=\"table_of_contents\"></a>"
   ]
  },
  {
   "cell_type": "markdown",
   "id": "48311faf-cb0c-4fdd-8011-c02e311c8ccb",
   "metadata": {},
   "source": [
    "0. [Download & Import Libraries](#imports)\n",
    "1. [Import Data](#import_data)\n",
    "2. Data Exploration\n",
    "3. Data Cleaning\n",
    "4. Data Wrangling\n",
    "5. Data Visualization"
   ]
  },
  {
   "cell_type": "markdown",
   "id": "83e34125-0231-4944-bfe9-f5265e18162a",
   "metadata": {},
   "source": [
    "## 0. Downloading and Importing Libraries <a id=\"imports\"></a>"
   ]
  },
  {
   "cell_type": "markdown",
   "id": "29593552-3504-4614-8d85-44d9d992bbfe",
   "metadata": {},
   "source": [
    "[Back to top](#table_of_contents)"
   ]
  },
  {
   "cell_type": "code",
   "execution_count": null,
   "id": "0a411566-a7a0-489a-83cb-75bdd93175de",
   "metadata": {
    "scrolled": true
   },
   "outputs": [],
   "source": [
    "!pip install opendatasets\n",
    "pip install pypyodbc\n",
    "pip install geopy"
   ]
  },
  {
   "cell_type": "code",
   "execution_count": null,
   "id": "4d1b299e-477e-44f6-959a-fb09ab11bfca",
   "metadata": {},
   "outputs": [],
   "source": [
    "import pandas as pd\n",
    "import numpy as np\n",
    "import sqlite3 as sql\n",
    "import matplotlib\n",
    "from matplotlib import pyplot as plt\n",
    "import opendatasets as od\n",
    "import os\n",
    "from geopy.geocoders import Nominatim\n",
    "from timezonefinder import TimezoneFinder"
   ]
  },
  {
   "cell_type": "markdown",
   "id": "73ea336f-5e9f-4c32-9c8e-5f177c15fedd",
   "metadata": {},
   "source": [
    "## 1. Import Data <a id=\"import_data\"></a>"
   ]
  },
  {
   "cell_type": "markdown",
   "id": "70ccde29-9e62-4800-9710-94c2393a03c5",
   "metadata": {},
   "source": [
    "[Back to top](#table_of_contents)"
   ]
  },
  {
   "cell_type": "code",
   "execution_count": null,
   "id": "c51e03c2-8103-409a-a0c6-85c3b84584fd",
   "metadata": {
    "scrolled": true
   },
   "outputs": [],
   "source": [
    "#create connection to database file in Kaggle\n",
    "dataset = \"https://www.kaggle.com/datasets/wyattowalsh/basketball\"\n",
    "od.download(dataset)"
   ]
  },
  {
   "cell_type": "code",
   "execution_count": null,
   "id": "96c40abf-c5f9-4f04-b18e-c2c5cf3a126a",
   "metadata": {},
   "outputs": [],
   "source": [
    "# 1.Connect to SQL database\n",
    "connection = sql.connect('basketball/nba.sqlite')\n",
    "# Test SQL connectivity to database by writing a SQL query\n",
    "test_query = \"SELECT * FROM game\"\n",
    "# Load the data into a pandas DataFrame\n",
    "df = pd.read_sql_query(test_query, connection)\n",
    "# Display the DataFrame\n",
    "print(df)\n",
    "# Close Connection if necessary\n",
    "connection.close()"
   ]
  },
  {
   "cell_type": "markdown",
   "id": "3ca7cdf1-d0d6-44e9-8454-7555d0a25b86",
   "metadata": {},
   "source": [
    "## 2. Data Exploration"
   ]
  },
  {
   "cell_type": "markdown",
   "id": "c95d8fa4-1ac3-4253-9ba8-12bccd3677be",
   "metadata": {},
   "source": [
    "[Click here](https://www.nba.com/stats/help/glossary) for an NBA stat glossary.\n",
    "[Click here](https://en.wikipedia.org/wiki/Basketball_statistics) for general basketball statistics acronyms.\n",
    "\n",
    "Slug for CSV folder files (for the purpose of viewing the tables here): /basketball/csv/[table name].csv\n",
    "\n",
    "* fgm = field goals made\n",
    "* ftm = free throws made\n",
    "* pts = points\n",
    "* reb = rebounds\n",
    "* oreb = offensive rebounds\n",
    "* dreb = defensive rebounds\n",
    "* ast = assists\n",
    "* stl = steals\n",
    "* blk = blocks\n",
    "* tov = turnovers\n",
    "* td = triple double\n",
    "* wl = win/lose\n",
    "* ft_pct_away = free throws % of away team\n",
    "\n",
    "NBA's efficiency rating: (PTS + REB + AST + STL + BLK − ((FGA − FGM) + (FTA − FTM) + TOV))"
   ]
  },
  {
   "cell_type": "markdown",
   "id": "a9be2402-8a97-4daf-a73e-98deef3960aa",
   "metadata": {},
   "source": [
    "## 3. Data Cleaning"
   ]
  },
  {
   "cell_type": "code",
   "execution_count": null,
   "id": "4598ce2b-c2a2-4beb-92d4-1cd48428dc48",
   "metadata": {},
   "outputs": [],
   "source": [
    "# 1.Connect to SQL database\n",
    "explore_connection = sql.connect('basketball/nba.sqlite')\n",
    "\n",
    "cursor = explore_connection.cursor()\n",
    "cursor.execute('''\n",
    "    CREATE TABLE IF NOT EXISTS game_cleaned AS\n",
    "    SELECT team_id_home, \n",
    "        team_id_away, \n",
    "        team_name_home, \n",
    "        team_name_away, \n",
    "        game_id, \n",
    "        wl_home, \n",
    "        fga_home, \n",
    "        fg_pct_home, \n",
    "        ftm_home, \n",
    "        pts_home, \n",
    "        fta_home, \n",
    "        fgm_home, \n",
    "        ftm_away, \n",
    "        oreb_home, \n",
    "        dreb_home, \n",
    "        reb_home, \n",
    "        ast_home, \n",
    "        stl_home, \n",
    "        blk_home, \n",
    "        tov_home, \n",
    "        pf_home, \n",
    "        team_id_away, \n",
    "        team_name_away, \n",
    "        wl_away, \n",
    "        fg_pct_away, \n",
    "        ft_pct_away, \n",
    "        fta_away, \n",
    "        pts_away, \n",
    "        fga_away, \n",
    "        fgm_away, \n",
    "        oreb_away, \n",
    "        dreb_away, \n",
    "        reb_away, \n",
    "        ast_away, \n",
    "        stl_away, \n",
    "        blk_away, \n",
    "        tov_away, \n",
    "        pf_away\n",
    "    FROM game\n",
    "    WHERE fga_home IS NOT NULL AND fta_home IS NOT NULL AND ftm_home IS NOT NULL AND oreb_home IS NOT NULL AND dreb_home IS NOT NULL AND stl_home IS NOT NULL AND ast_home IS NOT NULL AND reb_home IS NOT NULL AND blk_home IS NOT NULL AND tov_home IS NOT NULL AND pf_home IS NOT NULL AND pts_home IS NOT NULL AND team_id_away IS NOT NULL AND team_name_away IS NOT NULL AND wl_away IS NOT NULL AND fg_pct_away IS NOT NULL AND ft_pct_away IS NOT NULL AND pts_away IS NOT NULL AND fgm_away IS NOT NULL AND oreb_away IS NOT NULL AND dreb_away IS NOT NULL AND reb_away IS NOT NULL AND ast_away IS NOT NULL AND stl_away IS NOT NULL AND blk_away IS NOT NULL AND tov_away IS NOT NULL AND pf_away IS NOT NULL AND pts_away IS NOT NULL AND fga_away IS NOT NULL;\n",
    "''')\n",
    "display_game_cleaned_query = \"SELECT * FROM game_cleaned\"\n",
    "game_cleaned_df = pd.read_sql_query(display_game_cleaned_query, explore_connection)\n",
    "print(game_cleaned_df)"
   ]
  },
  {
   "cell_type": "markdown",
   "id": "b1c87d46-b346-439e-9e9c-c6c701b69f6c",
   "metadata": {},
   "source": [
    "<h4>I noticed that in the teams.csv the Atlanta Hawks have the wrong state in the table (It says \"Atlanta\" again for the state). Here, I clean this by replacing that value with \"Georgia\".</h4>"
   ]
  },
  {
   "cell_type": "code",
   "execution_count": null,
   "id": "4837f383-6456-4ef3-a39d-20ef72f7baf4",
   "metadata": {},
   "outputs": [],
   "source": [
    "# 1.Connect to SQL database\n",
    "fixing_state_value_connection = sql.connect('basketball/nba.sqlite')\n",
    "cursor = fixing_state_value_connection.cursor()\n",
    "cursor.execute('''\n",
    "    UPDATE team\n",
    "    SET state = 'Georgia'\n",
    "    WHERE id = 1610612737\n",
    "''')\n",
    "\n",
    "\n",
    "display_team_fixed_query = \"SELECT * FROM team\"\n",
    "team_cleaned_df = pd.read_sql_query(display_team_fixed_query, fixing_state_value_connection)\n",
    "print(team_cleaned_df)\n",
    "fixing_state_value_connection.close()"
   ]
  },
  {
   "cell_type": "markdown",
   "id": "9da1f1fb-9f14-4500-b6a1-0640da954f02",
   "metadata": {},
   "source": [
    "## 3. Data Wrangling"
   ]
  },
  {
   "cell_type": "markdown",
   "id": "0820c209-8889-4d09-97aa-3abe46a7c2e5",
   "metadata": {},
   "source": [
    "### Calculating the efficiency of the home vs away teams for each game"
   ]
  },
  {
   "cell_type": "code",
   "execution_count": null,
   "id": "777c37e0-e89d-4ce5-8174-89dde0f82415",
   "metadata": {},
   "outputs": [],
   "source": [
    "# 1.Connect to SQL database\n",
    "add_calculation_connection = sql.connect('basketball/nba.sqlite')\n",
    "cursor = add_calculation_connection.cursor()\n",
    "cursor.execute('''\n",
    "    ALTER TABLE game_cleaned ADD COLUMN eff_home;\n",
    "''')\n",
    "\n",
    "cursor.execute('''\n",
    "    ALTER TABLE game_cleaned ADD COLUMN eff_away;\n",
    "''')\n",
    "\n",
    "cursor.execute('''\n",
    "    UPDATE game_cleaned\n",
    "    SET eff_home = (\n",
    "        pts_home + \n",
    "        reb_home + \n",
    "        ast_home + \n",
    "        stl_home + \n",
    "        blk_home - \n",
    "        ((fga_home - fgm_home) + \n",
    "        (fta_home - ftm_home) + \n",
    "        tov_home)\n",
    "    ),\n",
    "    eff_away = (\n",
    "        pts_away + \n",
    "        reb_away + \n",
    "        ast_away + \n",
    "        stl_away + \n",
    "        blk_away - \n",
    "        ((fga_away - fgm_away) + \n",
    "        (fta_away - ftm_away) + \n",
    "        tov_away)\n",
    "    )\n",
    "''')\n",
    "\n",
    "display_game_calculated_query = \"SELECT * FROM game_cleaned\"\n",
    "game_calculated_df = pd.read_sql_query(display_game_calculated_query, add_calculation_connection)\n",
    "print(game_calculated_df)\n",
    "add_calculation_connection.close()"
   ]
  },
  {
   "cell_type": "markdown",
   "id": "6a26a6c6-30f0-41a4-be17-bbd092da6aa6",
   "metadata": {},
   "source": [
    "### Duplicate the team table so that I can have a city for each team in the game_cleaned table"
   ]
  },
  {
   "cell_type": "code",
   "execution_count": null,
   "id": "1af0af7c-b181-44c2-9732-6ed1cb93238b",
   "metadata": {},
   "outputs": [],
   "source": [
    "duplicate_team_table_connection = sql.connect('basketball/nba.sqlite')\n",
    "cursor = duplicate_team_table_connection.cursor()\n",
    "cursor.execute('''\n",
    "    CREATE TABLE duplicate_team_table AS\n",
    "    SELECT * FROM team\n",
    "''')\n",
    "duplicate_team_table_connection.closed()"
   ]
  },
  {
   "cell_type": "markdown",
   "id": "c966b964-c2c4-49d1-8258-2f43a6994e93",
   "metadata": {},
   "source": [
    "### Joining the duplicated table with the cleaned game table, rename the city field AND state field for the home team"
   ]
  },
  {
   "cell_type": "code",
   "execution_count": null,
   "id": "15e38a8d-21d2-4b95-ad14-b95ffaed5efa",
   "metadata": {},
   "outputs": [],
   "source": [
    "join_duplicated_team_w_cleaned_game = sql.connect('basketball/nba.sqlite')\n",
    "cursor = join_duplicated_team_w_cleaned_game.cursor()\n",
    "cursor.execute('''\n",
    "      SELECT \n",
    "        game_cleaned.team_id_home, \n",
    "        game_cleaned.team_name_home, \n",
    "        game_cleaned.team_name_away, \n",
    "        game_cleaned.game_id,\n",
    "        game_cleaned.eff_home,\n",
    "        game_cleaned.eff_away,\n",
    "        duplicate_team_table.state AS state_away,\n",
    "        duplicate_team_table.city AS city_away\n",
    "    FROM game_cleaned\n",
    "    INNER JOIN duplicate_team_table ON game_cleaned.team_id_away = duplicate_team_table.id;\n",
    "''')\n",
    "display_game_team_duplicate_joined_query = \"SELECT * FROM game_cleaned\"\n",
    "game_team_duplicated_df = pd.read_sql_query(display_game_team_duplicate_joined_query, join_duplicated_team_w_cleaned_game)\n",
    "print(game_team_duplicated_df)\n",
    "join_duplicated_team_w_cleaned_game.closed()"
   ]
  },
  {
   "cell_type": "markdown",
   "id": "d3af79fd-435d-4978-8ca0-c46a074cc533",
   "metadata": {},
   "source": [
    "### Joining the original team Table with the cleaned Game table and renaming the city field AND state field for the away team"
   ]
  },
  {
   "cell_type": "code",
   "execution_count": null,
   "id": "96d76ae0-ec4a-4e3d-8b14-48c360747013",
   "metadata": {},
   "outputs": [],
   "source": [
    "join_teams_original_and_games_cleaned_connection = sql.connect('basketball/nba.sqlite')\n",
    "cursor = join_teams_original_and_games_cleaned_connection.cursor()\n",
    "cursor.execute('''\n",
    "    SELECT  \n",
    "        game_cleaned.team_id_away, \n",
    "        game_cleaned.team_name_home, \n",
    "        game_cleaned.team_name_away, \n",
    "        game_cleaned.game_id,\n",
    "        game_cleaned.eff_home,\n",
    "        game_cleaned.eff_away,\n",
    "        game_cleaned.state_away,\n",
    "        game_cleaned.city_away,\n",
    "        team.state AS state_home,\n",
    "        team.city AS state_away\n",
    "    FROM game_cleaned\n",
    "    INNER JOIN team ON game_cleaned.team_id_home = team.id;\n",
    "''')\n",
    "\n",
    "\n",
    "display_fully_joined_game_query = \"SELECT * FROM game_cleaned\"\n",
    "game_fully_joined_df = pd.read_sql_query(display_fully_joined_game_query, join_teams_original_and_games_cleaned_connection)\n",
    "print(game_fully_joined_df)\n",
    "join_teams_original_and_games_cleaned_connection.close()"
   ]
  },
  {
   "cell_type": "markdown",
   "id": "cbdb18ae-b2c0-4301-9837-218e438102a0",
   "metadata": {},
   "source": [
    "### Add a column with the distance between the two cities COORDINATES for each game.\n"
   ]
  },
  {
   "cell_type": "markdown",
   "id": "ca61b85d-243f-4156-9da9-2362122ef081",
   "metadata": {},
   "source": [
    "#### Calculate timezone, longitude and latitude"
   ]
  },
  {
   "cell_type": "code",
   "execution_count": null,
   "id": "dca855d0-0fe5-43c9-909e-bcb637512a31",
   "metadata": {},
   "outputs": [],
   "source": [
    "# Find timezone, longitude and latitude, and distance between the cities. Add those values to the table\n",
    "\n",
    "timezone_and_distance_connection = sql.connect('basketball/nba.sqlite')\n",
    "cursor = timezone_and_distance_connection.cursor()\n",
    "cursor.execute('''\n",
    "    ALTER TABLE game_cleaned ADD COLUMN latitude_home REAL;\n",
    "    ALTER TABLE game_cleaned ADD COLUMN longitude_home REAL;\n",
    "    ALTER TABLE game_cleaned ADD COLUMN timezone_home TEXT;\n",
    "    ALTER TABLE game_cleaned ADD COLUMN latitude_away REAL;\n",
    "    ALTER TABLE game_cleaned ADD COLUMN longitude_away REAL;\n",
    "    ALTER TABLE game_cleaned ADD COLUMN timezone_away TEXT;\n",
    "    ALTER TABLE game_cleaned ADD COLUMN distance_away_from_home REAL;\n",
    "''')\n",
    "\n",
    "query = \"SELECT city FROM game_cleaned\"\n",
    "query_away = \"SELECT city_away FROM game_cleaned\"\n",
    "\n",
    "geolocator = Nominatim(user_agent=\"geoapi\")\n",
    "tf = TimezoneFinder()\n",
    "'''\n",
    "Find the latitude, longitude, timezone of each city. Find the distance from home for the away team.\n",
    "'''\n",
    "def get_location_data(city):\n",
    "    try:\n",
    "        # Get city location\n",
    "        location = geolocator.geocode(city)\n",
    "        if location:\n",
    "            lat, lon = location.latitude, location.longitude\n",
    "            # Get timezone based on latitude and longitude\n",
    "            timezone = tf.timezone_at(lat=lat, lng=lon)\n",
    "            return lat, lon, timezone\n",
    "        else:\n",
    "            return None, None, None\n",
    "    except Exception as e:\n",
    "        print(f\"Error with city {city}: {e}\")\n",
    "        return None, None, None\n",
    "\n",
    "# Apply the function to each city and store the results in new columns\n",
    "df['latitude_home'], df['longitude_home'], df['timezone_home'] = zip(*df['city'].apply(get_location_data))\n",
    "df['latitude_away'], df['longitude_away'], df['timezone_away'] = zip(*df['city_away'].apply(get_location_data))\n",
    "\n",
    "# Iterate over the DataFrame and update the table for the HOME team\n",
    "for index, row in df.iterrows():\n",
    "    city = row['city']\n",
    "    lat = row['latitude_home']\n",
    "    lon = row['longitude_home']\n",
    "    timezone = row['timezone_home']\n",
    "    \n",
    "    # Update the table with the latitude, longitude, and timezone for each city\n",
    "    cursor.execute(\"\"\"\n",
    "        UPDATE game_cleaned \n",
    "        SET latitude_home = ?, longitude_home = ?, timezone_home = ? \n",
    "        WHERE team_city = ?\"\"\", (lat, lon, timezone, city))\n",
    "\n",
    "# Iterate over the DataFrame and update the table for the AWAY team\n",
    "\n",
    "for index, row in df.iterrows():\n",
    "    city = row['city_away']\n",
    "    lat = row['latitude_away']\n",
    "    lon = row['longitude_away']\n",
    "    timezone = row['timezone_away']\n",
    "    \n",
    "    # Update the table with the latitude, longitude, and timezone for each city\n",
    "    cursor.execute(\"\"\"\n",
    "        UPDATE game_cleaned \n",
    "        SET latitude_away = ?, longitude_away = ?, timezone_away = ? \n",
    "        WHERE team_city_away = ?\"\"\", (lat, lon, timezone, city))\n",
    "\n",
    "timezone_and_distance_connection.commit()\n",
    "\n",
    "display_timezones_dist_query = \"SELECT * FROM game_cleaned\"\n",
    "game_timezones_df = pd.read_sql_query(display_timezones_dist_query, timezone_and_distance_connection)\n",
    "print(game_timezones_df)\n",
    "timezone_and_distance_connection.close()"
   ]
  },
  {
   "cell_type": "markdown",
   "id": "bd49378d-5a2b-4612-979c-d9c1c7355717",
   "metadata": {},
   "source": [
    "#### Calculate distance the away team traveled with the coordinates"
   ]
  },
  {
   "cell_type": "code",
   "execution_count": null,
   "id": "dd1d499f-bcb5-437e-93eb-4abf51e76317",
   "metadata": {},
   "outputs": [],
   "source": []
  }
 ],
 "metadata": {
  "kernelspec": {
   "display_name": "Python 3 (ipykernel)",
   "language": "python",
   "name": "python3"
  },
  "language_info": {
   "codemirror_mode": {
    "name": "ipython",
    "version": 3
   },
   "file_extension": ".py",
   "mimetype": "text/x-python",
   "name": "python",
   "nbconvert_exporter": "python",
   "pygments_lexer": "ipython3",
   "version": "3.12.4"
  }
 },
 "nbformat": 4,
 "nbformat_minor": 5
}
